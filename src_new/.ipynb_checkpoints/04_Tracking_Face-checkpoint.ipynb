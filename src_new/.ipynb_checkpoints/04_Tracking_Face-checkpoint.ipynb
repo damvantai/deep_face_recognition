{
 "cells": [
  {
   "cell_type": "code",
   "execution_count": 5,
   "metadata": {},
   "outputs": [],
   "source": [
    "import cv2\n",
    "import colorsys\n",
    "import numpy as np\n",
    "import os\n",
    "import sys\n",
    "\n",
    "from keras import backend as K\n",
    "from keras.models import load_model\n",
    "from keras.layers import Input\n",
    "from keras.utils import multi_gpu_model\n",
    "from PIL import Image, ImageFont, ImageDraw\n",
    "from yolo3.model import yolo_body, yolo_eval, tiny_yolo_body\n",
    "from yolo3.utils import letterbox_image\n",
    "from yolo import YOLO"
   ]
  },
  {
   "cell_type": "code",
   "execution_count": 6,
   "metadata": {},
   "outputs": [],
   "source": [
    "x1, y1, x2, y2 = -1, -1, -1, -1\n",
    "path = \"../1_02.avi\""
   ]
  },
  {
   "cell_type": "code",
   "execution_count": 7,
   "metadata": {},
   "outputs": [],
   "source": [
    "def draw_rec(event, x, y, flags, param):\n",
    "    global x1, y1, x2, y2, drawing, mode\n",
    "    \n",
    "    if event == cv2.EVENT_LBUTTONDOWN:\n",
    "        x1, y1 = x, y\n",
    "    if event == cv2.EVENT_LBUTTONUP:\n",
    "        x2, y2 = x, y\n",
    "        cv2.rectangle(param, (x1, y1), (x2, y2), (0, 0, 255), 3)"
   ]
  },
  {
   "cell_type": "code",
   "execution_count": null,
   "metadata": {},
   "outputs": [],
   "source": [
    "cap = cv2.VideoCapture(path)\n",
    "# while cap.isOpened():\n",
    "ret, frame = cap.read()\n",
    "# cv2.setMouseCallback('draw_rectangle', draw_rec, frame)\n",
    "\n",
    "yolo = YOLO()\n",
    "\n",
    "# SelectROI (bbox) (top, left, height, width)\n",
    "bbox_area = cv2.selectROI('track area', frame)\n",
    "print(\"Type(bbox_area): {} and value of bbox_area: {}\".format(type(bbox_area), bbox_area))\n",
    "while True:\n",
    "    ok, frame = cap.read()\n",
    "    \n",
    "    image = Image.fromarray(frame)\n",
    "    \n",
    "    image, center, box_detect, obj_type = yolo.detect_image(image, bbox_area)\n",
    "    frame = np.asarray(image)\n",
    "    \n",
    "    \n",
    "    cv2.rectangle(frame, (bbox_area[0], bbox_area[1]), (bbox_area[0] + bbox_area[2], bbox_area[1] + bbox_area[3]), (255, 0, 0), 3)\n",
    "    cv2.imshow(\"frame\", frame)\n",
    "    \n",
    "    k = cv2.waitKey(1) & 0xff\n",
    "    if k == ord('n'):\n",
    "        continue\n",
    "    if k == 27:\n",
    "        break\n",
    "cap.release()\n",
    "cv2.destroyAllWindows()"
   ]
  },
  {
   "cell_type": "code",
   "execution_count": null,
   "metadata": {},
   "outputs": [],
   "source": [
    "a "
   ]
  },
  {
   "cell_type": "code",
   "execution_count": null,
   "metadata": {},
   "outputs": [],
   "source": []
  },
  {
   "cell_type": "code",
   "execution_count": null,
   "metadata": {},
   "outputs": [],
   "source": []
  }
 ],
 "metadata": {
  "kernelspec": {
   "display_name": "Python 3",
   "language": "python",
   "name": "python3"
  },
  "language_info": {
   "codemirror_mode": {
    "name": "ipython",
    "version": 3
   },
   "file_extension": ".py",
   "mimetype": "text/x-python",
   "name": "python",
   "nbconvert_exporter": "python",
   "pygments_lexer": "ipython3",
   "version": "3.6.5"
  }
 },
 "nbformat": 4,
 "nbformat_minor": 2
}
