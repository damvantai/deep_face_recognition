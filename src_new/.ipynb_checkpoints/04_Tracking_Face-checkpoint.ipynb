{
 "cells": [
  {
   "cell_type": "code",
   "execution_count": 1,
   "metadata": {},
   "outputs": [
    {
     "name": "stderr",
     "output_type": "stream",
     "text": [
      "Using TensorFlow backend.\n"
     ]
    }
   ],
   "source": [
    "import cv2\n",
    "import colorsys\n",
    "import numpy as np\n",
    "import os\n",
    "import sys\n",
    "\n",
    "from keras import backend as K\n",
    "from keras.models import load_model\n",
    "from keras.layers import Input\n",
    "from keras.utils import multi_gpu_model\n",
    "from PIL import Image, ImageFont, ImageDraw\n",
    "from yolo3.model import yolo_body, yolo_eval, tiny_yolo_body\n",
    "from yolo3.utils import letterbox_image\n",
    "from yolo import YOLO"
   ]
  },
  {
   "cell_type": "code",
   "execution_count": 2,
   "metadata": {},
   "outputs": [],
   "source": [
    "x1, y1, x2, y2 = -1, -1, -1, -1\n",
    "path = \"/mnt/24eb92b8-4fc1-4f32-b05c-deaa999ce6cf/Documents/datasets/face/camera_supervisor/1_02.avi\""
   ]
  },
  {
   "cell_type": "code",
   "execution_count": 3,
   "metadata": {},
   "outputs": [],
   "source": [
    "def draw_rec(event, x, y, flags, param):\n",
    "    global x1, y1, x2, y2, drawing, mode\n",
    "    \n",
    "    if event == cv2.EVENT_LBUTTONDOWN:\n",
    "        x1, y1 = x, y\n",
    "    if event == cv2.EVENT_LBUTTONUP:\n",
    "        x2, y2 = x, y\n",
    "        cv2.rectangle(param, (x1, y1), (x2, y2), (0, 0, 255), 3)"
   ]
  },
  {
   "cell_type": "code",
   "execution_count": 4,
   "metadata": {},
   "outputs": [
    {
     "name": "stdout",
     "output_type": "stream",
     "text": [
      "/home/damvantai/Documents/projects/deep_face_recognition/weights/yolo_weights.h5 model, anchors, and classes loaded.\n",
      "Type(bbox_area): <class 'tuple'> and value of bbox_area: (432, 249, 630, 532)\n"
     ]
    },
    {
     "ename": "TypeError",
     "evalue": "detect_image() missing 1 required positional argument: 'bbox_area'",
     "output_type": "error",
     "traceback": [
      "\u001b[0;31m---------------------------------------------------------------------------\u001b[0m",
      "\u001b[0;31mTypeError\u001b[0m                                 Traceback (most recent call last)",
      "\u001b[0;32m<ipython-input-4-0e978cc6d882>\u001b[0m in \u001b[0;36m<module>\u001b[0;34m()\u001b[0m\n\u001b[1;32m     14\u001b[0m     \u001b[0mimage\u001b[0m \u001b[0;34m=\u001b[0m \u001b[0mImage\u001b[0m\u001b[0;34m.\u001b[0m\u001b[0mfromarray\u001b[0m\u001b[0;34m(\u001b[0m\u001b[0mframe\u001b[0m\u001b[0;34m)\u001b[0m\u001b[0;34m\u001b[0m\u001b[0m\n\u001b[1;32m     15\u001b[0m \u001b[0;34m\u001b[0m\u001b[0m\n\u001b[0;32m---> 16\u001b[0;31m     \u001b[0mimage\u001b[0m \u001b[0;34m=\u001b[0m \u001b[0myolo\u001b[0m\u001b[0;34m.\u001b[0m\u001b[0mdetect_image\u001b[0m\u001b[0;34m(\u001b[0m\u001b[0mimage\u001b[0m\u001b[0;34m)\u001b[0m\u001b[0;34m\u001b[0m\u001b[0m\n\u001b[0m\u001b[1;32m     17\u001b[0m     \u001b[0mframe\u001b[0m \u001b[0;34m=\u001b[0m \u001b[0mnp\u001b[0m\u001b[0;34m.\u001b[0m\u001b[0masarray\u001b[0m\u001b[0;34m(\u001b[0m\u001b[0mimage\u001b[0m\u001b[0;34m)\u001b[0m\u001b[0;34m\u001b[0m\u001b[0m\n\u001b[1;32m     18\u001b[0m \u001b[0;34m\u001b[0m\u001b[0m\n",
      "\u001b[0;31mTypeError\u001b[0m: detect_image() missing 1 required positional argument: 'bbox_area'"
     ]
    }
   ],
   "source": [
    "cap = cv2.VideoCapture(path)\n",
    "# while cap.isOpened():\n",
    "ret, frame = cap.read()\n",
    "# cv2.setMouseCallback('draw_rectangle', draw_rec, frame)\n",
    "\n",
    "yolo = YOLO()\n",
    "\n",
    "# SelectROI (bbox) (top, left, height, width)\n",
    "bbox_area = cv2.selectROI('track area', frame)\n",
    "print(\"Type(bbox_area): {} and value of bbox_area: {}\".format(type(bbox_area), bbox_area))\n",
    "while True:\n",
    "    ok, frame = cap.read()\n",
    "    \n",
    "    image = Image.fromarray(frame)\n",
    "    \n",
    "    image = yolo.detect_image(image, bbox_area)\n",
    "    frame = np.asarray(image)\n",
    "    \n",
    "    \n",
    "    cv2.rectangle(frame, (bbox_area[0], bbox_area[1]), (bbox_area[0] + bbox_area[2], bbox_area[1] + bbox_area[3]), (255, 0, 0), 3)\n",
    "    cv2.imshow(\"frame\", frame)\n",
    "    \n",
    "    k = cv2.waitKey(1) & 0xff\n",
    "    if k == ord('n'):\n",
    "        continue\n",
    "    if k == 27:\n",
    "        break\n",
    "cap.release()\n",
    "cv2.destroyAllWindows()"
   ]
  },
  {
   "cell_type": "code",
   "execution_count": null,
   "metadata": {},
   "outputs": [],
   "source": [
    "a "
   ]
  },
  {
   "cell_type": "code",
   "execution_count": null,
   "metadata": {},
   "outputs": [],
   "source": []
  },
  {
   "cell_type": "code",
   "execution_count": null,
   "metadata": {},
   "outputs": [],
   "source": []
  }
 ],
 "metadata": {
  "kernelspec": {
   "display_name": "Python 3",
   "language": "python",
   "name": "python3"
  },
  "language_info": {
   "codemirror_mode": {
    "name": "ipython",
    "version": 3
   },
   "file_extension": ".py",
   "mimetype": "text/x-python",
   "name": "python",
   "nbconvert_exporter": "python",
   "pygments_lexer": "ipython3",
   "version": "3.6.5"
  }
 },
 "nbformat": 4,
 "nbformat_minor": 2
}
