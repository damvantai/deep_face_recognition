{
 "cells": [
  {
   "cell_type": "code",
   "execution_count": 1,
   "metadata": {},
   "outputs": [
    {
     "name": "stderr",
     "output_type": "stream",
     "text": [
      "Using TensorFlow backend.\n"
     ]
    }
   ],
   "source": [
    "import cv2\n",
    "import colorsys\n",
    "import numpy as np\n",
    "import os\n",
    "import sys\n",
    "import time\n",
    "\n",
    "from keras import backend as K\n",
    "from keras.models import load_model\n",
    "from keras.layers import Input\n",
    "from keras.utils import multi_gpu_model\n",
    "from PIL import Image, ImageFont, ImageDraw\n",
    "from yolo3.model import yolo_body, yolo_eval, tiny_yolo_body\n",
    "from yolo3.utils import letterbox_image\n",
    "from yolo import YOLO\n",
    "from tracker import Tracker\n",
    "from timeit import default_timer as timer\n"
   ]
  },
  {
   "cell_type": "code",
   "execution_count": 2,
   "metadata": {},
   "outputs": [],
   "source": [
    "x1, y1, x2, y2 = -1, -1, -1, -1\n",
    "path = \"../1_02.avi\"\n",
    "font = cv2.FONT_HERSHEY_COMPLEX\n"
   ]
  },
  {
   "cell_type": "code",
   "execution_count": 3,
   "metadata": {},
   "outputs": [],
   "source": [
    "def draw_rec(event, x, y, flags, param):\n",
    "    global x1, y1, x2, y2, drawing, mode\n",
    "    \n",
    "    if event == cv2.EVENT_LBUTTONDOWN:\n",
    "        x1, y1 = x, y\n",
    "    if event == cv2.EVENT_LBUTTONUP:\n",
    "        x2, y2 = x, y\n",
    "        cv2.rectangle(param, (x1, y1), (x2, y2), (0, 0, 255), 3)"
   ]
  },
  {
   "cell_type": "code",
   "execution_count": 4,
   "metadata": {},
   "outputs": [
    {
     "name": "stdout",
     "output_type": "stream",
     "text": [
      "../weights/yolo_weights.h5 model, anchors, and classes loaded.\n"
     ]
    },
    {
     "ename": "error",
     "evalue": "OpenCV(3.4.2) /io/opencv/modules/highgui/src/window.cpp:356: error: (-215:Assertion failed) size.width>0 && size.height>0 in function 'imshow'\n",
     "output_type": "error",
     "traceback": [
      "\u001b[0;31m---------------------------------------------------------------------------\u001b[0m",
      "\u001b[0;31merror\u001b[0m                                     Traceback (most recent call last)",
      "\u001b[0;32m<ipython-input-4-abb12188a6af>\u001b[0m in \u001b[0;36m<module>\u001b[0;34m()\u001b[0m\n\u001b[1;32m     13\u001b[0m \u001b[0;34m\u001b[0m\u001b[0m\n\u001b[1;32m     14\u001b[0m \u001b[0;31m# SelectROI (bbox) (top, left, height, width)\u001b[0m\u001b[0;34m\u001b[0m\u001b[0;34m\u001b[0m\u001b[0m\n\u001b[0;32m---> 15\u001b[0;31m \u001b[0mbbox_area\u001b[0m \u001b[0;34m=\u001b[0m \u001b[0mcv2\u001b[0m\u001b[0;34m.\u001b[0m\u001b[0mselectROI\u001b[0m\u001b[0;34m(\u001b[0m\u001b[0;34m'track area'\u001b[0m\u001b[0;34m,\u001b[0m \u001b[0mframe\u001b[0m\u001b[0;34m)\u001b[0m\u001b[0;34m\u001b[0m\u001b[0m\n\u001b[0m\u001b[1;32m     16\u001b[0m \u001b[0mprint\u001b[0m\u001b[0;34m(\u001b[0m\u001b[0;34m\"Type(bbox_area): {} and value of bbox_area: {}\"\u001b[0m\u001b[0;34m.\u001b[0m\u001b[0mformat\u001b[0m\u001b[0;34m(\u001b[0m\u001b[0mtype\u001b[0m\u001b[0;34m(\u001b[0m\u001b[0mbbox_area\u001b[0m\u001b[0;34m)\u001b[0m\u001b[0;34m,\u001b[0m \u001b[0mbbox_area\u001b[0m\u001b[0;34m)\u001b[0m\u001b[0;34m)\u001b[0m\u001b[0;34m\u001b[0m\u001b[0m\n\u001b[1;32m     17\u001b[0m \u001b[0mnumber_frame\u001b[0m \u001b[0;34m=\u001b[0m \u001b[0;36m1\u001b[0m\u001b[0;34m\u001b[0m\u001b[0m\n",
      "\u001b[0;31merror\u001b[0m: OpenCV(3.4.2) /io/opencv/modules/highgui/src/window.cpp:356: error: (-215:Assertion failed) size.width>0 && size.height>0 in function 'imshow'\n"
     ]
    }
   ],
   "source": [
    "cap = cv2.VideoCapture(path)\n",
    "# while cap.isOpened():\n",
    "ret, frame = cap.read()\n",
    "# cv2.setMouseCallback('draw_rectangle', draw_rec, frame)\n",
    "\n",
    "yolo = YOLO()\n",
    "tracker = Tracker(iou_thresh=0.1, max_frames_to_skip=10, max_trace_length=20, trackIdCount=0)\n",
    "track_colors = [(255, 0, 0), (0, 255, 0), (0, 0, 255), (255, 255, 0),\n",
    "                    (0, 255, 255), (255, 0, 255), (255, 127, 255),\n",
    "                    (127, 0, 255), (127, 0, 127)]\n",
    "\n",
    "count_people = {'people_come_in': 0, 'people_come_out': 0}\n",
    "\n",
    "# SelectROI (bbox) (top, left, height, width)\n",
    "bbox_area = cv2.selectROI('track area', frame)\n",
    "print(\"Type(bbox_area): {} and value of bbox_area: {}\".format(type(bbox_area), bbox_area))\n",
    "number_frame = 1\n",
    "start = time.time()\n",
    "while True:\n",
    "    ok, frame = cap.read()\n",
    "    \n",
    "    image = Image.fromarray(frame)\n",
    "    \n",
    "    image, center, box_detected, obj_type = yolo.detect_image(image, bbox_area)\n",
    "    frame = np.asarray(image)\n",
    "    \n",
    "    print(\"len box_detected: \", len(box_detected))\n",
    "    if len(box_detected) > 0:\n",
    "        tracker.Update(box_detected, obj_type)   \n",
    "        for i in range(len(tracker.tracks)):\n",
    "            if len(tracker.tracks[i].trace) > 1:\n",
    "                for j in range(len(tracker.tracks[i].trace) - 1):\n",
    "                    x1 = tracker.tracks[i].trace[j][0][0]\n",
    "                    y1 = tracker.tracks[i].trace[j][1][0]\n",
    "                    x2 = tracker.tracks[i].trace[j + 1][0][0]\n",
    "                    y2 = tracker.tracks[i].trace[j + 1][1][0]\n",
    "                    clr = tracker.tracks[i].track_id % 9\n",
    "                    cv2.line(frame, (int(x1), int(y1)), (int(x2), int(y2)), track_colors[clr], 2)\n",
    "            if len(tracker.tracks[i].trace) >= 9 and (not tracker.tracks[i].counted):\n",
    "                x_center_first = tracker.tracks[i].trace[0][0][0]\n",
    "                y_center_first = tracker.tracks[i].trace[0][1][0]\n",
    "                x_center_second = tracker.tracks[i].trace[7][0][0]\n",
    "                y_center_second = tracker.tracks[i].trace[7][1][0]\n",
    "                if y_center_second > y_center_first and x_center_second > x_center_first:\n",
    "                    count_people[\"people_come_in\"] += 1\n",
    "                if y_center_second < y_center_first and x_center_second < x_center_first:\n",
    "                    count_people[\"people_come_out\"] += 1\n",
    "                    \n",
    "    x = 30\n",
    "    y = 30\n",
    "    dy = 20\n",
    "    i = 0\n",
    "    cv2.rectangle(frame, (bbox_area[0], bbox_area[1]), (bbox_area[0] + bbox_area[2], bbox_area[1] + bbox_area[3]), (255, 0, 0), 3)\n",
    "    FPS = number_frame / float(time.time() - start)\n",
    "    label_FPS = \"FPS: \" + str(FPS)\n",
    "    cv2.putText(frame, label_FPS, (600, x), font, 1, (255, 0, 255), 2, cv2.LINE_AA)\n",
    "    for key, value in count_people.items():\n",
    "        text = key + ':' + str(value)\n",
    "        cv2.putText(frame, text, (x, y + dy * i), font, 1, (255, 0, 255), 2, cv2.LINE_AA)\n",
    "        i += 1\n",
    "        \n",
    "    cv2.imshow(\"frame\", frame)\n",
    "    number_frame += 1\n",
    "    k = cv2.waitKey(1) & 0xff\n",
    "    if k == ord('n'):\n",
    "        continue\n",
    "    if k == 27:\n",
    "        break\n",
    "cap.release()\n",
    "cv2.destroyAllWindows()"
   ]
  },
  {
   "cell_type": "code",
   "execution_count": null,
   "metadata": {},
   "outputs": [],
   "source": []
  },
  {
   "cell_type": "code",
   "execution_count": null,
   "metadata": {},
   "outputs": [],
   "source": []
  },
  {
   "cell_type": "code",
   "execution_count": null,
   "metadata": {},
   "outputs": [],
   "source": []
  }
 ],
 "metadata": {
  "kernelspec": {
   "display_name": "Python 3",
   "language": "python",
   "name": "python3"
  },
  "language_info": {
   "codemirror_mode": {
    "name": "ipython",
    "version": 3
   },
   "file_extension": ".py",
   "mimetype": "text/x-python",
   "name": "python",
   "nbconvert_exporter": "python",
   "pygments_lexer": "ipython3",
   "version": "3.6.5"
  }
 },
 "nbformat": 4,
 "nbformat_minor": 2
}
